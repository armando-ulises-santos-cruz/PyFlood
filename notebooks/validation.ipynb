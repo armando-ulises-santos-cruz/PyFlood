{
 "cells": [
  {
   "cell_type": "markdown",
   "id": "a32f227e-2bdf-40fa-9c89-22898df68ffa",
   "metadata": {},
   "source": [
    "# Import libraries"
   ]
  },
  {
   "cell_type": "code",
   "execution_count": 2,
   "id": "e9764bc7-57a8-4883-ac90-bc3a6efeafb7",
   "metadata": {},
   "outputs": [],
   "source": [
    "# Imports\n",
    "import sys\n",
    "import os\n",
    "sys.path.append(os.path.abspath(\"../\"))\n",
    "\n",
    "import numpy as np\n",
    "import geopandas as gpd\n",
    "import rasterio\n",
    "import matplotlib.pyplot as plt\n",
    "import warnings\n",
    "warnings.filterwarnings('ignore')\n",
    "\n",
    "# Custom Functions\n",
    "from functions.validation_functions import *\n",
    "from config import (\n",
    "    SFINCS_WD_FILE, SFINCS_WL_FILE,\n",
    "    CFM_WD_TIF, CFM_WL_TIF,\n",
    "    CFM_A_WD_FINAL_TIF, CFM_A_WL_FINAL_TIF,\n",
    "    ALIGNED_HWM_SHP, HWM_VS_SFINCS_SHP,\n",
    "    HWM_VS_CFM_SHP, HWM_VS_CFM_A_SHP,\n",
    "    LAND_CORE_TIF, CONFUSION_MATRIX_CFM_TIF,\n",
    "    CONFUSION_MATRIX_CFM_A_TIF\n",
    ")\n"
   ]
  },
  {
   "cell_type": "markdown",
   "id": "35e5a9d2-652a-4666-b259-005dfe9762d5",
   "metadata": {},
   "source": [
    "## Confusion Matrix Generation against SFINCS"
   ]
  },
  {
   "cell_type": "code",
   "execution_count": 4,
   "id": "68bdaed1-8e4b-4a40-b3fb-2f33f4250b7c",
   "metadata": {},
   "outputs": [],
   "source": [
    "# Load SFINCS flood map\n",
    "with rasterio.open(SFINCS_WD_FILE) as src:\n",
    "    sfincs_flood = src.read(1).astype(np.float32)\n",
    "    sfincs_profile = src.profile.copy()\n",
    "    sfincs_nodata = src.nodata\n",
    "\n",
    "# Load Coastal Flood Map (CFM)\n",
    "with rasterio.open(CFM_WD_TIF.replace(\".tif\", \"_over_1m.tif\")) as src:\n",
    "    cfm_flood = src.read(1).astype(np.float32)\n",
    "    cfm_nodata = src.nodata\n",
    "\n",
    "# Load Coastal Flood Map + Attenuation (CFM+A)\n",
    "with rasterio.open(CFM_A_WD_FINAL_TIF.replace(\".tif\", \"_over_1m.tif\")) as src:\n",
    "    cfm_a_flood = src.read(1).astype(np.float32)\n",
    "    cfm_a_nodata = src.nodata\n",
    "\n",
    "# Load inland mask\n",
    "with rasterio.open(LAND_CORE_TIF) as src:\n",
    "    inland_mask = src.read(1).astype(np.uint8)\n"
   ]
  },
  {
   "cell_type": "code",
   "execution_count": 5,
   "id": "3140a387-fbbd-47af-8d0c-f358e28cce95",
   "metadata": {},
   "outputs": [],
   "source": [
    "# Replace NoData values with NaN\n",
    "sfincs_flood = np.where(sfincs_flood == sfincs_nodata, np.nan, sfincs_flood)\n",
    "cfm_flood= np.where(cfm_flood == cfm_nodata, np.nan, cfm_flood)\n",
    "cfm_a_flood = np.where(cfm_a_flood == cfm_a_nodata, np.nan, cfm_a_flood)\n",
    "\n",
    "# Apply inland mask\n",
    "sfincs_flood = np.where(inland_mask == 1, sfincs_flood, np.nan)\n",
    "cfm_flood = np.where(inland_mask == 1, cfm_flood, np.nan)\n",
    "cfm_a_flood = np.where(inland_mask == 1, cfm_a_flood, np.nan)\n"
   ]
  },
  {
   "cell_type": "code",
   "execution_count": 6,
   "id": "3ef9a55a-b502-48f2-8301-dc63deba2154",
   "metadata": {},
   "outputs": [],
   "source": [
    "# Binary masks\n",
    "sfincs_binary = np.where(~np.isnan(sfincs_flood), 1, 0)\n",
    "cfm_binary = np.where(~np.isnan(cfm_flood), 1, 0)\n",
    "cfm_a_binary = np.where(~np.isnan(cfm_a_flood), 1, 0)\n"
   ]
  },
  {
   "cell_type": "code",
   "execution_count": 7,
   "id": "5066f89c-3b19-48c6-9af0-cd45daa78dd3",
   "metadata": {},
   "outputs": [
    {
     "name": "stdout",
     "output_type": "stream",
     "text": [
      "Flooded Cells Count:\n",
      "SFINCS flooded cells: 72,108,511\n",
      "Coastal Flood Map (CFM) flooded cells: 74,649,319\n",
      "Coastal Flood Map + Attenuation (CFM+A) flooded cells: 72,245,058\n"
     ]
    }
   ],
   "source": [
    "print(f\"Flooded Cells Count:\")\n",
    "print(f\"SFINCS flooded cells: {np.sum(sfincs_binary == 1):,}\")\n",
    "print(f\"Coastal Flood Map (CFM) flooded cells: {np.sum(cfm_binary == 1):,}\")\n",
    "print(f\"Coastal Flood Map + Attenuation (CFM+A) flooded cells: {np.sum(cfm_a_binary == 1):,}\")\n"
   ]
  },
  {
   "cell_type": "code",
   "execution_count": 8,
   "id": "c0bdcba2-2253-47df-ac32-2c6521337246",
   "metadata": {},
   "outputs": [],
   "source": [
    "# Confusion matrices\n",
    "confusion_cfm = compute_confusion_matrix(sfincs_binary, cfm_binary, inland_mask)\n",
    "confusion_cfm_a = compute_confusion_matrix(sfincs_binary, cfm_a_binary, inland_mask)\n",
    "\n",
    "# Metrics\n",
    "metrics_cfm = compute_extent_metrics(confusion_cfm)\n",
    "metrics_cfm_a = compute_extent_metrics(confusion_cfm_a)\n",
    "\n",
    "# True/False Positives/Negatives\n",
    "TP_cfm, TN_cfm, FP_cfm, FN_cfm = np.sum(confusion_cfm == 3), np.sum(confusion_cfm == 0), np.sum(confusion_cfm == 1), np.sum(confusion_cfm == 2)\n",
    "TP_cfm_a, TN_cfm_a, FP_cfm_a, FN_cfm_a = np.sum(confusion_cfm_a == 3), np.sum(confusion_cfm_a == 0), np.sum(confusion_cfm_a == 1), np.sum(confusion_cfm_a == 2)\n"
   ]
  },
  {
   "cell_type": "code",
   "execution_count": 9,
   "id": "6f31f378-8f87-47ac-9d41-f3cbf9d803cd",
   "metadata": {
    "scrolled": true
   },
   "outputs": [
    {
     "name": "stdout",
     "output_type": "stream",
     "text": [
      "\n",
      "Coastal Flood Map (CFM) Validation Metrics:\n",
      "CSI: 0.7755\n",
      "Precision: 0.8587\n",
      "Recall: 0.8889\n",
      "Specificity: 0.9720\n",
      "F1_Score: 0.8735\n",
      "FDR: 0.1413\n",
      "Proportion_Correct: 0.9587\n",
      "Bias_Ratio: 1.0352\n",
      "TP: 64,099,564 | TN: 366,814,561 | FP: 10,549,755 | FN: 8,008,947\n",
      "\n",
      "Coastal Flood Map + Attenuation (CFM+A) Validation Metrics:\n",
      "CSI: 0.7751\n",
      "Precision: 0.8725\n",
      "Recall: 0.8741\n",
      "Specificity: 0.9756\n",
      "F1_Score: 0.8733\n",
      "FDR: 0.1275\n",
      "Proportion_Correct: 0.9593\n",
      "Bias_Ratio: 1.0019\n",
      "TP: 63,030,346 | TN: 368,149,604 | FP: 9,214,712 | FN: 9,078,165\n"
     ]
    }
   ],
   "source": [
    "print(\"\\nCoastal Flood Map (CFM) Validation Metrics:\")\n",
    "for k, v in metrics_cfm.items():\n",
    "    print(f\"{k}: {v:.4f}\")\n",
    "print(f\"TP: {TP_cfm:,} | TN: {TN_cfm:,} | FP: {FP_cfm:,} | FN: {FN_cfm:,}\")\n",
    "\n",
    "print(\"\\nCoastal Flood Map + Attenuation (CFM+A) Validation Metrics:\")\n",
    "for k, v in metrics_cfm_a.items():\n",
    "    print(f\"{k}: {v:.4f}\")\n",
    "print(f\"TP: {TP_cfm_a:,} | TN: {TN_cfm_a:,} | FP: {FP_cfm_a:,} | FN: {FN_cfm_a:,}\")\n"
   ]
  },
  {
   "cell_type": "code",
   "execution_count": 10,
   "id": "fc78ca22-3027-41fe-91f9-7ab93145e923",
   "metadata": {},
   "outputs": [
    {
     "name": "stdout",
     "output_type": "stream",
     "text": [
      "\n",
      "Confusion matrix rasters exported for Coastal Flood Map (CFM) and Coastal Flood Map + Attenuation (CFM+A).\n"
     ]
    }
   ],
   "source": [
    "# ---------------------------------------\n",
    "# Save Confusion Rasters\n",
    "# ---------------------------------------\n",
    "\n",
    "sfincs_profile.update(dtype=rasterio.uint8, count=1, nodata=255)\n",
    "\n",
    "with rasterio.open(CONFUSION_MATRIX_CFM_TIF, 'w', **sfincs_profile) as dst:\n",
    "    dst.write(confusion_cfm, 1)\n",
    "\n",
    "with rasterio.open(CONFUSION_MATRIX_CFM_A_TIF, 'w', **sfincs_profile) as dst:\n",
    "    dst.write(confusion_cfm_a, 1)\n",
    "\n",
    "print(\"\\nConfusion matrix rasters exported for Coastal Flood Map (CFM) and Coastal Flood Map + Attenuation (CFM+A).\")"
   ]
  },
  {
   "cell_type": "markdown",
   "id": "35fbd828-d3a5-45e0-aaed-0502241486c5",
   "metadata": {},
   "source": [
    "## Compare Water Level Results against High Water Marks"
   ]
  },
  {
   "cell_type": "code",
   "execution_count": 12,
   "id": "ee834750-1100-4c16-88f7-c977556e894c",
   "metadata": {},
   "outputs": [],
   "source": [
    "# Compare HWMs\n",
    "sfincs_results = compare_hwm_with_model(SFINCS_WL_FILE, ALIGNED_HWM_SHP, HWM_VS_SFINCS_SHP)\n",
    "cfm_results = compare_hwm_with_model(CFM_WL_TIF, ALIGNED_HWM_SHP, HWM_VS_CFM_SHP)\n",
    "cfm_a_results = compare_hwm_with_model(CFM_A_WL_FINAL_TIF, ALIGNED_HWM_SHP, HWM_VS_CFM_A_SHP)\n"
   ]
  },
  {
   "cell_type": "code",
   "execution_count": 13,
   "id": "fee693af-cd93-466f-bac5-fe31eef99c90",
   "metadata": {},
   "outputs": [
    {
     "name": "stdout",
     "output_type": "stream",
     "text": [
      "\n",
      "HWM Comparison - SFINCS:\n",
      "Num Points: 48.0000\n",
      "RMSE: 0.6266\n",
      "MAE: 0.4827\n",
      "Bias: -0.1367\n",
      "Scatter Index: 0.1718\n",
      "\n",
      "HWM Comparison - CFM:\n",
      "Num Points: 57.0000\n",
      "RMSE: 0.5203\n",
      "MAE: 0.3711\n",
      "Bias: 0.1795\n",
      "Scatter Index: 0.1457\n",
      "\n",
      "HWM Comparison - CFM+A:\n",
      "Num Points: 57.0000\n",
      "RMSE: 0.5047\n",
      "MAE: 0.3611\n",
      "Bias: 0.1303\n",
      "Scatter Index: 0.1413\n"
     ]
    }
   ],
   "source": [
    "print(\"\\nHWM Comparison - SFINCS:\")\n",
    "for k, v in sfincs_results.items():\n",
    "    print(f\"{k}: {v:.4f}\")\n",
    "\n",
    "print(\"\\nHWM Comparison - CFM:\")\n",
    "for k, v in cfm_results.items():\n",
    "    print(f\"{k}: {v:.4f}\")\n",
    "\n",
    "print(\"\\nHWM Comparison - CFM+A:\")\n",
    "for k, v in cfm_a_results.items():\n",
    "    print(f\"{k}: {v:.4f}\")\n"
   ]
  },
  {
   "cell_type": "code",
   "execution_count": 14,
   "id": "be02e7cb-0846-4541-a62f-6ad12c677508",
   "metadata": {},
   "outputs": [],
   "source": [
    "# Load HWM comparison shapefiles\n",
    "sfincs_gdf = gpd.read_file(HWM_VS_SFINCS_SHP)\n",
    "cfm_gdf = gpd.read_file(HWM_VS_CFM_SHP)\n",
    "cfm_a_gdf = gpd.read_file(HWM_VS_CFM_A_SHP)\n",
    "\n",
    "# Extract and clean HWM comparison data\n",
    "def clean_observed_predicted(gdf):\n",
    "    observed = gdf[\"hwm\"].values\n",
    "    predicted = gdf[\"wse\"].values\n",
    "    valid = ~np.isnan(observed) & ~np.isnan(predicted)\n",
    "    return observed[valid], predicted[valid]\n",
    "\n",
    "observed_sfincs, predicted_sfincs = clean_observed_predicted(sfincs_gdf)\n",
    "observed_cfm, predicted_cfm = clean_observed_predicted(cfm_gdf)\n",
    "observed_cfm_a, predicted_cfm_a = clean_observed_predicted(cfm_a_gdf)"
   ]
  },
  {
   "cell_type": "code",
   "execution_count": null,
   "id": "bc02ddcc-9fb4-47e9-a454-bca2d6212162",
   "metadata": {},
   "outputs": [],
   "source": []
  }
 ],
 "metadata": {
  "kernelspec": {
   "display_name": "Python 3 (ipykernel)",
   "language": "python",
   "name": "python3"
  },
  "language_info": {
   "codemirror_mode": {
    "name": "ipython",
    "version": 3
   },
   "file_extension": ".py",
   "mimetype": "text/x-python",
   "name": "python",
   "nbconvert_exporter": "python",
   "pygments_lexer": "ipython3",
   "version": "3.11.7"
  }
 },
 "nbformat": 4,
 "nbformat_minor": 5
}
